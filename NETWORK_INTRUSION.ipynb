{
  "cells": [
    {
      "cell_type": "markdown",
      "metadata": {
        "id": "view-in-github",
        "colab_type": "text"
      },
      "source": [
        "<a href=\"https://colab.research.google.com/github/SATHWIK123423/Colab_notebooks/blob/main/NETWORK_INTRUSION.ipynb\" target=\"_parent\"><img src=\"https://colab.research.google.com/assets/colab-badge.svg\" alt=\"Open In Colab\"/></a>"
      ]
    },
    {
      "cell_type": "code",
      "execution_count": null,
      "metadata": {
        "id": "d6vwSL0k8sbd"
      },
      "outputs": [],
      "source": [
        "import numpy as np\n",
        "import torch\n",
        "import torchvision\n",
        "import math\n",
        "from torch.utils.data import Dataset, DataLoader\n",
        "from sklearn.model_selection import train_test_split\n",
        "import pandas as pd\n",
        "from sklearn.preprocessing import LabelEncoder\n",
        "from sklearn.preprocessing import MinMaxScaler\n",
        "import sys\n",
        "import csv\n",
        "from torchsummary import summary"
      ]
    },
    {
      "cell_type": "code",
      "execution_count": null,
      "metadata": {
        "colab": {
          "base_uri": "https://localhost:8080/"
        },
        "id": "MnKXLDhnjLnc",
        "outputId": "a9a5602b-ca82-48b5-cd54-497169aa2ffd"
      },
      "outputs": [
        {
          "output_type": "stream",
          "name": "stdout",
          "text": [
            "Mounted at /content/drive\n"
          ]
        }
      ],
      "source": [
        "from google.colab import drive\n",
        "drive.mount('/content/drive')"
      ]
    },
    {
      "cell_type": "code",
      "execution_count": null,
      "metadata": {
        "colab": {
          "base_uri": "https://localhost:8080/"
        },
        "id": "gRVENpmVGFQn",
        "outputId": "9bef5731-eaf6-4cfe-8d4a-7ceb1938516b"
      },
      "outputs": [
        {
          "output_type": "stream",
          "name": "stdout",
          "text": [
            "tensor([0.0000e+00, 5.0000e-01, 2.9231e-01, 9.0000e-01, 1.2863e-06, 0.0000e+00,\n",
            "        0.0000e+00, 0.0000e+00, 0.0000e+00, 0.0000e+00, 0.0000e+00, 0.0000e+00,\n",
            "        0.0000e+00, 0.0000e+00, 0.0000e+00, 0.0000e+00, 0.0000e+00, 0.0000e+00,\n",
            "        0.0000e+00, 0.0000e+00, 0.0000e+00, 0.0000e+00, 1.9608e-03, 1.9608e-03,\n",
            "        0.0000e+00, 0.0000e+00, 0.0000e+00, 0.0000e+00, 1.0000e+00, 0.0000e+00,\n",
            "        0.0000e+00, 5.8824e-01, 9.8039e-02, 1.7000e-01, 3.0000e-02, 1.7000e-01,\n",
            "        0.0000e+00, 0.0000e+00, 0.0000e+00, 5.0000e-02]) tensor([0., 1.])\n"
          ]
        }
      ],
      "source": [
        "class data(Dataset):\n",
        "  def __init__(self):\n",
        "    trdata=pd.read_csv('/content/drive/MyDrive/NETWORK_INSTRUSION/Train_data.csv')\n",
        "    xy=trdata.iloc[:,:].values\n",
        "    labelen_xy=LabelEncoder()\n",
        "    xy[:,1]=labelen_xy.fit_transform(xy[:,1])\n",
        "    xy[:,2]=labelen_xy.fit_transform(xy[:,2])\n",
        "    xy[:,3]=labelen_xy.fit_transform(xy[:,3])\n",
        "    xy[:,41]=labelen_xy.fit_transform(xy[:,41])\n",
        "    xy=xy.astype('float32')\n",
        "    m=MinMaxScaler()\n",
        "    xy=m.fit_transform(xy)\n",
        "    self.x=torch.from_numpy(xy[:,0:40])\n",
        "    self.y=torch.from_numpy(xy[:,[41]])\n",
        "    self.y=self.y.long()\n",
        "    t_o=torch.zeros(len(self.y),2)\n",
        "    self.y=t_o.scatter_(1,self.y,1.0)\n",
        "    self.XY=pd.DataFrame(xy)\n",
        "    self.n_samples=xy.shape[0]\n",
        "    \n",
        "  def __getitem__(self,index):\n",
        "    return self.x[index],self.y[index]\n",
        "  def __len__(self):\n",
        "    return self.n_samples\n",
        "dataset=data()\n",
        "first_data=dataset[0]\n",
        "features,labels=first_data\n",
        "print(features,labels)\n"
      ]
    },
    {
      "cell_type": "markdown",
      "metadata": {
        "id": "CZ6KlIIz5SRQ"
      },
      "source": [
        "to test one hot encoding"
      ]
    },
    {
      "cell_type": "code",
      "execution_count": null,
      "metadata": {
        "colab": {
          "base_uri": "https://localhost:8080/"
        },
        "id": "IW8fFDBw0iKz",
        "outputId": "7b9ad56f-20de-413e-fb00-e455132c2062"
      },
      "outputs": [
        {
          "output_type": "stream",
          "name": "stdout",
          "text": [
            "torch.Size([25192, 1, 2])\n",
            "tensor([[[0, 1]],\n",
            "\n",
            "        [[0, 1]],\n",
            "\n",
            "        [[1, 0]],\n",
            "\n",
            "        ...,\n",
            "\n",
            "        [[1, 0]],\n",
            "\n",
            "        [[1, 0]],\n",
            "\n",
            "        [[1, 0]]])\n",
            "tensor([[1., 1.],\n",
            "        [1., 1.],\n",
            "        [1., 1.],\n",
            "        ...,\n",
            "        [1., 1.],\n",
            "        [1., 1.],\n",
            "        [1., 1.]])\n"
          ]
        }
      ],
      "source": [
        "t=dataset.y.long()\n",
        "#print(t)\n",
        "p=t.unique()\n",
        "#print(p)\n",
        "#print(len(p))\n",
        "#print(\"&&\",t.shape)\n",
        "t_o=torch.zeros(len(t),2)\n",
        "#print(t_o)\n",
        "#print(t_o.shape)\n",
        "p=t.unsqueeze(1)\n",
        "print(p.shape)\n",
        "print(p)\n",
        "r=t_o.scatter_(1,t,1.0)\n",
        "print(r)"
      ]
    },
    {
      "cell_type": "code",
      "execution_count": null,
      "metadata": {
        "colab": {
          "base_uri": "https://localhost:8080/"
        },
        "id": "gTxWhv01HXC1",
        "outputId": "b9373ff0-7d85-40d7-b6d4-9389f29b8821"
      },
      "outputs": [
        {
          "output_type": "execute_result",
          "data": {
            "text/plain": [
              "25192"
            ]
          },
          "metadata": {},
          "execution_count": 29
        }
      ],
      "source": [
        "len(dataset.x)"
      ]
    },
    {
      "cell_type": "code",
      "execution_count": null,
      "metadata": {
        "id": "1Ozu4v5XjcYI"
      },
      "outputs": [],
      "source": [
        "train_dataset, test_dataset = train_test_split(dataset, test_size=0.15, random_state=42)\n",
        "train_loader=DataLoader(dataset=train_dataset,shuffle=True)\n",
        "test_loader=DataLoader(dataset=test_dataset,shuffle=True)\n"
      ]
    },
    {
      "cell_type": "code",
      "execution_count": null,
      "metadata": {
        "id": "fBgM7h8faLPj"
      },
      "outputs": [],
      "source": [
        "train_loader=DataLoader(dataset=train_dataset,shuffle=True,batch_size=64)\n",
        "test_loader=DataLoader(dataset=test_dataset,shuffle=True,batch_size=63)"
      ]
    },
    {
      "cell_type": "markdown",
      "metadata": {
        "id": "SUTCA0R9uueX"
      },
      "source": [
        "FEATURE SELECTION USING AUTO ENCODER"
      ]
    },
    {
      "cell_type": "code",
      "execution_count": null,
      "metadata": {
        "id": "RYjx6A9MuWC2"
      },
      "outputs": [],
      "source": [
        "\n",
        "from torch.distributions import Normal\n",
        "import matplotlib.pyplot as plt\n",
        "import torch.nn as nn\n",
        "import torch.optim as optim\n",
        "import torch.nn.functional as F \n",
        "from torchvision.utils import make_grid\n",
        "import torchvision.transforms as transforms\n",
        "from tqdm import tqdm\n",
        "from torchvision.utils import save_image\n"
      ]
    },
    {
      "cell_type": "code",
      "execution_count": null,
      "metadata": {
        "colab": {
          "base_uri": "https://localhost:8080/"
        },
        "id": "5Rys4-v_U1Sg",
        "outputId": "a00bfad6-8921-47b3-ff4b-83049890d4ed"
      },
      "outputs": [
        {
          "output_type": "stream",
          "name": "stdout",
          "text": [
            "cpu\n"
          ]
        }
      ],
      "source": [
        "device=torch.device('cuda:0' if torch.cuda.is_available() else 'cpu')\n",
        "print(device)\n",
        "host=torch.device('cpu')"
      ]
    },
    {
      "cell_type": "code",
      "execution_count": null,
      "metadata": {
        "id": "_RpHZj5gh-1k"
      },
      "outputs": [],
      "source": [
        "from torch.nn.modules.activation import Sigmoid\n",
        "class autoencoder(nn.Module):\n",
        "  def __init__(self):\n",
        "    super().__init__()\n",
        "    self.encoder=nn.Sequential(nn.Linear(40,20),\n",
        "                               nn.ReLU(),\n",
        "                               nn.Linear(20,9),\n",
        "                               nn.ReLU(),\n",
        "                               nn.Linear(9,10)\n",
        "                                         \n",
        "                                        )\n",
        "    self.decoder=nn.Sequential(nn.Linear(10,9),\n",
        "                               nn.ReLU(),\n",
        "                               nn.Linear(9,20),\n",
        "                               nn.ReLU(),\n",
        "                               nn.Linear(20,40),\n",
        "                               nn.Sigmoid()\n",
        "                                        )\n",
        "  def forward(self,x):\n",
        "    encoded=self.encoder(x)\n",
        "    decoded=self.decoder(encoded)\n",
        "    return decoded\n",
        "  def geten(self,x):\n",
        "    encoded=self.encoder(x)\n",
        "    return encoded\n",
        "\n",
        "  \n",
        "    "
      ]
    },
    {
      "cell_type": "code",
      "execution_count": null,
      "metadata": {
        "id": "YhGGiWxoL37L"
      },
      "outputs": [],
      "source": [
        "model=autoencoder().to(device)\n",
        "criterion=nn.MSELoss()\n",
        "optimizer=torch.optim.Adam(model.parameters(),lr=0.001,weight_decay=1e-5)"
      ]
    },
    {
      "cell_type": "code",
      "execution_count": null,
      "metadata": {
        "colab": {
          "base_uri": "https://localhost:8080/"
        },
        "id": "jCITd0v37l6o",
        "outputId": "b18b44a8-5ff6-45b4-c975-fb5246194d01"
      },
      "outputs": [
        {
          "output_type": "stream",
          "name": "stdout",
          "text": [
            "----------------------------------------------------------------\n",
            "        Layer (type)               Output Shape         Param #\n",
            "================================================================\n",
            "            Linear-1               [-1, 64, 20]             820\n",
            "              ReLU-2               [-1, 64, 20]               0\n",
            "            Linear-3                [-1, 64, 9]             189\n",
            "              ReLU-4                [-1, 64, 9]               0\n",
            "            Linear-5               [-1, 64, 10]             100\n",
            "            Linear-6                [-1, 64, 9]              99\n",
            "              ReLU-7                [-1, 64, 9]               0\n",
            "            Linear-8               [-1, 64, 20]             200\n",
            "              ReLU-9               [-1, 64, 20]               0\n",
            "           Linear-10               [-1, 64, 40]             840\n",
            "          Sigmoid-11               [-1, 64, 40]               0\n",
            "================================================================\n",
            "Total params: 2,248\n",
            "Trainable params: 2,248\n",
            "Non-trainable params: 0\n",
            "----------------------------------------------------------------\n",
            "Input size (MB): 0.01\n",
            "Forward/backward pass size (MB): 0.10\n",
            "Params size (MB): 0.01\n",
            "Estimated Total Size (MB): 0.12\n",
            "----------------------------------------------------------------\n"
          ]
        }
      ],
      "source": [
        "summary(model.to(device),(64,40))"
      ]
    },
    {
      "cell_type": "code",
      "execution_count": null,
      "metadata": {
        "colab": {
          "base_uri": "https://localhost:8080/"
        },
        "id": "8ERERhKN2jRW",
        "outputId": "bd6d7767-c3cb-459e-f545-474e213c1e30"
      },
      "outputs": [
        {
          "output_type": "stream",
          "name": "stdout",
          "text": [
            "tensor([[0.0000e+00, 5.0000e-01, 3.3846e-01,  ..., 0.0000e+00, 0.0000e+00,\n",
            "         0.0000e+00],\n",
            "        [0.0000e+00, 5.0000e-01, 7.0769e-01,  ..., 1.0000e+00, 1.0000e+00,\n",
            "         0.0000e+00],\n",
            "        [0.0000e+00, 5.0000e-01, 3.3846e-01,  ..., 0.0000e+00, 0.0000e+00,\n",
            "         0.0000e+00],\n",
            "        ...,\n",
            "        [9.3323e-05, 5.0000e-01, 2.9231e-01,  ..., 0.0000e+00, 0.0000e+00,\n",
            "         0.0000e+00],\n",
            "        [0.0000e+00, 5.0000e-01, 1.0000e+00,  ..., 1.0000e+00, 1.0000e+00,\n",
            "         0.0000e+00],\n",
            "        [0.0000e+00, 5.0000e-01, 3.3846e-01,  ..., 0.0000e+00, 0.0000e+00,\n",
            "         3.0000e-02]])\n",
            "@@@\n",
            "40\n",
            "*****\n",
            "tensor([[0.5001, 0.5039, 0.4943,  ..., 0.5315, 0.4842, 0.5407],\n",
            "        [0.5001, 0.5044, 0.4943,  ..., 0.5317, 0.4844, 0.5405],\n",
            "        [0.5001, 0.5040, 0.4944,  ..., 0.5316, 0.4842, 0.5407],\n",
            "        ...,\n",
            "        [0.5000, 0.5039, 0.4944,  ..., 0.5315, 0.4842, 0.5407],\n",
            "        [0.5002, 0.5043, 0.4942,  ..., 0.5317, 0.4842, 0.5406],\n",
            "        [0.5001, 0.5039, 0.4944,  ..., 0.5315, 0.4842, 0.5407]],\n",
            "       device='cuda:0', grad_fn=<SigmoidBackward0>)\n"
          ]
        }
      ],
      "source": [
        "for d,w in train_loader:\n",
        "  print(d)\n",
        "  print(\"@@@\")\n",
        "  print(len(d[0]))\n",
        "  d=d.to(device)\n",
        "  y=model(d)\n",
        "  print(\"*****\")\n",
        "  print(y)\n",
        "  break"
      ]
    },
    {
      "cell_type": "markdown",
      "metadata": {
        "id": "bVhs3tCuRR79"
      },
      "source": [
        "AUTOENCODER TRAINING"
      ]
    },
    {
      "cell_type": "code",
      "execution_count": null,
      "metadata": {
        "colab": {
          "base_uri": "https://localhost:8080/"
        },
        "id": "tknWFqmxRRXp",
        "outputId": "9a28941d-f8da-4876-a9e9-b479e7d0a8c1"
      },
      "outputs": [
        {
          "output_type": "stream",
          "name": "stdout",
          "text": [
            "Epoch:0,Loss:0.0835\n",
            "Epoch:5,Loss:0.0141\n",
            "Epoch:10,Loss:0.0096\n",
            "Epoch:15,Loss:0.0080\n",
            "Epoch:20,Loss:0.0073\n",
            "Epoch:25,Loss:0.0054\n",
            "Epoch:30,Loss:0.0048\n",
            "Epoch:35,Loss:0.0044\n",
            "Epoch:40,Loss:0.0040\n",
            "Epoch:45,Loss:0.0037\n"
          ]
        }
      ],
      "source": [
        "nepoch=50\n",
        "output=[]\n",
        "ls=[]\n",
        "lo=0\n",
        "i=0\n",
        "for epoch in range (nepoch):\n",
        "  lo=0\n",
        "  i=0\n",
        "  for d,w in train_loader:\n",
        "    i+=1\n",
        "    d = d.to(device)\n",
        "    o=model.forward(d)\n",
        "    loss=criterion(o,d)\n",
        "    lo+=loss\n",
        "    optimizer.zero_grad()\n",
        "    loss.backward()\n",
        "    optimizer.step()\n",
        "  lo=lo/i\n",
        "  ls.append(lo)\n",
        "  if(epoch%5==0):\n",
        "    print(f'Epoch:{epoch},Loss:{lo:.4f}')\n",
        "\n",
        "\n",
        "\n",
        "  "
      ]
    },
    {
      "cell_type": "markdown",
      "metadata": {
        "id": "SZLWOHtBm3bs"
      },
      "source": [
        "TO SAVE THE MODEL(EASY WAY)"
      ]
    },
    {
      "cell_type": "code",
      "execution_count": null,
      "metadata": {
        "id": "PsUwMo3GlpdU"
      },
      "outputs": [],
      "source": [
        "torch.save(model,'/content/drive/MyDrive/NETWORK_INSTRUSION/MODEL/model.ptf')\n"
      ]
    },
    {
      "cell_type": "code",
      "execution_count": null,
      "metadata": {
        "id": "HZ0FRY45l_Oe"
      },
      "outputs": [],
      "source": [
        "model=torch.load('/content/drive/MyDrive/NETWORK_INSTRUSION/MODEL/model.ptf')\n"
      ]
    },
    {
      "cell_type": "code",
      "execution_count": null,
      "metadata": {
        "colab": {
          "base_uri": "https://localhost:8080/"
        },
        "id": "JN_fNQ1YmIbl",
        "outputId": "346c41e0-78fb-41e8-8df3-ce0ca6478989"
      },
      "outputs": [
        {
          "output_type": "execute_result",
          "data": {
            "text/plain": [
              "autoencoder(\n",
              "  (encoder): Sequential(\n",
              "    (0): Linear(in_features=40, out_features=20, bias=True)\n",
              "    (1): ReLU()\n",
              "    (2): Linear(in_features=20, out_features=9, bias=True)\n",
              "    (3): ReLU()\n",
              "    (4): Linear(in_features=9, out_features=10, bias=True)\n",
              "  )\n",
              "  (decoder): Sequential(\n",
              "    (0): Linear(in_features=10, out_features=9, bias=True)\n",
              "    (1): ReLU()\n",
              "    (2): Linear(in_features=9, out_features=20, bias=True)\n",
              "    (3): ReLU()\n",
              "    (4): Linear(in_features=20, out_features=40, bias=True)\n",
              "    (5): Sigmoid()\n",
              "  )\n",
              ")"
            ]
          },
          "metadata": {},
          "execution_count": 18
        }
      ],
      "source": [
        "model.eval()"
      ]
    },
    {
      "cell_type": "markdown",
      "metadata": {
        "id": "pZXxo05ojYHG"
      },
      "source": [
        "TO SAVE"
      ]
    },
    {
      "cell_type": "code",
      "execution_count": null,
      "metadata": {
        "colab": {
          "base_uri": "https://localhost:8080/"
        },
        "id": "CeEfnPFlUKML",
        "outputId": "44bd7782-a4df-4f14-ee3d-fc0060888856"
      },
      "outputs": [
        {
          "name": "stdout",
          "output_type": "stream",
          "text": [
            "tensor([0.0000e+00, 0.0000e+00, 2.1538e-01, 9.0000e-01, 2.7036e-06, 0.0000e+00,\n",
            "        0.0000e+00, 0.0000e+00, 0.0000e+00, 0.0000e+00, 0.0000e+00, 0.0000e+00,\n",
            "        0.0000e+00, 0.0000e+00, 0.0000e+00, 0.0000e+00, 0.0000e+00, 0.0000e+00,\n",
            "        0.0000e+00, 0.0000e+00, 0.0000e+00, 0.0000e+00, 2.3529e-02, 2.3529e-02,\n",
            "        0.0000e+00, 0.0000e+00, 0.0000e+00, 0.0000e+00, 1.0000e+00, 0.0000e+00,\n",
            "        0.0000e+00, 1.0000e+00, 1.0000e+00, 1.0000e+00, 0.0000e+00, 1.0000e+00,\n",
            "        0.0000e+00, 0.0000e+00, 0.0000e+00, 0.0000e+00])\n"
          ]
        }
      ],
      "source": [
        "print(test_dataset[0][0])"
      ]
    },
    {
      "cell_type": "markdown",
      "metadata": {
        "id": "5h-lumxiZJkG"
      },
      "source": [
        "ENCODER VALUE"
      ]
    },
    {
      "cell_type": "code",
      "execution_count": null,
      "metadata": {
        "id": "4TOlyreN_iXE"
      },
      "outputs": [],
      "source": [
        "class mainm(nn.Module):\n",
        "  def __init__(self):\n",
        "    super().__init__()\n",
        "    self.sath=nn.Sequential(nn.Linear(10,25),\n",
        "                         nn.ReLU(),\n",
        "                         nn.Linear(25,40),\n",
        "                         nn.ReLU(),\n",
        "                         nn.Linear(40,30),\n",
        "                         nn.ReLU(),\n",
        "                         nn.Linear(30,30),\n",
        "                         nn.ReLU(),\n",
        "                         nn.Linear(30,30),\n",
        "                         nn.ReLU(),\n",
        "                         nn.Linear(30,30),\n",
        "                         nn.ReLU(),\n",
        "                         nn.Linear(30,10),\n",
        "                         nn.ReLU(),\n",
        "                         nn.Linear(10,5),\n",
        "                         nn.ReLU(),\n",
        "                         nn.Linear(5,2),\n",
        "                         nn.Softmax() \n",
        "                                        )\n",
        "   \n",
        "  def forward(self,x):\n",
        "    out=self.sath(x)\n",
        "    return out"
      ]
    },
    {
      "cell_type": "code",
      "execution_count": null,
      "metadata": {
        "id": "VaS6Pt-yqoeQ"
      },
      "outputs": [],
      "source": [
        "class mainmodel(nn.Module):\n",
        "  def __init__(self):\n",
        "    super().__init__()\n",
        "    self.sath=nn.Sequential(nn.Linear(10,20),\n",
        "                         nn.ReLU(),\n",
        "                         nn.Linear(20,10),\n",
        "                         nn.ReLU(),\n",
        "                         nn.Linear(10,10),\n",
        "                         nn.ReLU(),\n",
        "                         nn.Linear(10,6),\n",
        "                         nn.ReLU(),\n",
        "                         nn.Linear(6,2)\n",
        "                         ,\n",
        "                         nn.Sigmoid()\n",
        "                                         \n",
        "                                        )\n",
        "   \n",
        "  def forward(self,x):\n",
        "    out=self.sath(x)\n",
        "    return out"
      ]
    },
    {
      "cell_type": "code",
      "execution_count": null,
      "metadata": {
        "id": "IAfGAbCAuWGZ"
      },
      "outputs": [],
      "source": [
        "mmodel=mainm().to(device)\n",
        "criterion=nn.CrossEntropyLoss()\n",
        "optimizer=torch.optim.Adam(mmodel.parameters(),lr=0.001,weight_decay=0.000001)"
      ]
    },
    {
      "cell_type": "markdown",
      "metadata": {
        "id": "HMYE0Q_l5eYb"
      },
      "source": [
        "TRAINING THE MAIN MODEL"
      ]
    },
    {
      "cell_type": "code",
      "execution_count": null,
      "metadata": {
        "colab": {
          "base_uri": "https://localhost:8080/"
        },
        "id": "DlhIAC1B5_mt",
        "outputId": "66a1605a-8fc2-46ff-ba15-1b6020116660"
      },
      "outputs": [
        {
          "name": "stdout",
          "output_type": "stream",
          "text": [
            "tensor([1., 0.])\n"
          ]
        }
      ],
      "source": [
        "print(train_dataset[0][1])"
      ]
    },
    {
      "cell_type": "code",
      "execution_count": null,
      "metadata": {
        "id": "KCoM8qV5TveZ"
      },
      "outputs": [],
      "source": [
        "def accuracy(outputs, labels):\n",
        "    preds = torch.max(outputs,dim=1)\n",
        "    L=torch.max(labels,dim=1)\n",
        "    return torch.tensor(torch.sum(preds[1] == L[1]).item() / len(preds[1]))*100"
      ]
    },
    {
      "cell_type": "code",
      "execution_count": null,
      "metadata": {
        "colab": {
          "base_uri": "https://localhost:8080/"
        },
        "id": "UQ4JFSKJu1WN",
        "outputId": "0e77a683-8151-4207-feb0-91bbcc895bc9"
      },
      "outputs": [
        {
          "output_type": "stream",
          "name": "stderr",
          "text": [
            "/usr/local/lib/python3.7/dist-packages/torch/nn/modules/container.py:141: UserWarning: Implicit dimension choice for softmax has been deprecated. Change the call to include dim=X as an argument.\n",
            "  input = module(input)\n"
          ]
        },
        {
          "output_type": "stream",
          "name": "stdout",
          "text": [
            "Epoch:4,Loss:0.3943,TRAIN_ACCURACY:95.74072265625% lenght=37\n",
            "Epoch:4,Loss:0.3293,VAL_ACCURACY:96.77206420898438% \n",
            "Epoch:9,Loss:0.3674,TRAIN_ACCURACY:95.93535614013672% lenght=37\n",
            "Epoch:9,Loss:0.3136,VAL_ACCURACY:97.03703308105469% \n",
            "Epoch:14,Loss:0.3421,TRAIN_ACCURACY:96.07868194580078% lenght=37\n",
            "Epoch:14,Loss:0.3455,VAL_ACCURACY:97.35363006591797% \n",
            "Epoch:19,Loss:0.3402,TRAIN_ACCURACY:96.14865112304688% lenght=37\n",
            "Epoch:19,Loss:0.3154,VAL_ACCURACY:97.11637878417969% \n",
            "Epoch:24,Loss:0.3412,TRAIN_ACCURACY:96.50312805175781% lenght=37\n",
            "Epoch:24,Loss:0.3455,VAL_ACCURACY:97.48592376708984% \n",
            "Epoch:29,Loss:0.3673,TRAIN_ACCURACY:96.60699462890625% lenght=37\n",
            "Epoch:29,Loss:0.3307,VAL_ACCURACY:97.45986938476562% \n",
            "Epoch:34,Loss:0.3406,TRAIN_ACCURACY:96.46115112304688% lenght=37\n",
            "Epoch:34,Loss:0.3456,VAL_ACCURACY:97.64463806152344% \n",
            "Epoch:39,Loss:0.3404,TRAIN_ACCURACY:96.8202896118164% lenght=37\n",
            "Epoch:39,Loss:0.3298,VAL_ACCURACY:97.53922271728516% \n",
            "Epoch:44,Loss:0.3403,TRAIN_ACCURACY:96.95088958740234% lenght=37\n",
            "Epoch:44,Loss:0.3455,VAL_ACCURACY:97.72400665283203% \n",
            "Epoch:49,Loss:0.3133,TRAIN_ACCURACY:96.9682846069336% lenght=37\n",
            "Epoch:49,Loss:0.3294,VAL_ACCURACY:97.45986938476562% \n",
            "Epoch:54,Loss:0.3674,TRAIN_ACCURACY:96.87285614013672% lenght=37\n",
            "Epoch:54,Loss:0.3568,VAL_ACCURACY:97.53836059570312% \n",
            "Epoch:59,Loss:0.3134,TRAIN_ACCURACY:96.80037689208984% lenght=37\n",
            "Epoch:59,Loss:0.3295,VAL_ACCURACY:97.7508773803711% \n",
            "Epoch:64,Loss:0.3143,TRAIN_ACCURACY:96.9682846069336% lenght=37\n",
            "Epoch:64,Loss:0.3294,VAL_ACCURACY:97.48633575439453% \n",
            "Epoch:69,Loss:0.3133,TRAIN_ACCURACY:97.00093078613281% lenght=37\n",
            "Epoch:69,Loss:0.3294,VAL_ACCURACY:97.7773208618164% \n",
            "Epoch:74,Loss:0.3478,TRAIN_ACCURACY:97.00218963623047% lenght=37\n",
            "Epoch:74,Loss:0.3139,VAL_ACCURACY:97.51319885253906% \n",
            "Epoch:79,Loss:0.3403,TRAIN_ACCURACY:97.12812805175781% lenght=37\n",
            "Epoch:79,Loss:0.3133,VAL_ACCURACY:97.83065795898438% \n",
            "Epoch:84,Loss:0.3403,TRAIN_ACCURACY:97.10946655273438% lenght=37\n",
            "Epoch:84,Loss:0.3939,VAL_ACCURACY:97.72272491455078% \n",
            "Epoch:89,Loss:0.3943,TRAIN_ACCURACY:96.90210723876953% lenght=37\n",
            "Epoch:89,Loss:0.3133,VAL_ACCURACY:97.69837951660156% \n",
            "Epoch:94,Loss:0.3333,TRAIN_ACCURACY:97.08148193359375% lenght=37\n",
            "Epoch:94,Loss:0.3133,VAL_ACCURACY:97.724853515625% \n",
            "Epoch:99,Loss:0.3403,TRAIN_ACCURACY:97.18409729003906% lenght=37\n",
            "Epoch:99,Loss:0.3780,VAL_ACCURACY:97.77604675292969% \n",
            "Epoch:104,Loss:0.3943,TRAIN_ACCURACY:96.89277648925781% lenght=37\n",
            "Epoch:104,Loss:0.3581,VAL_ACCURACY:97.5648422241211% \n",
            "Epoch:109,Loss:0.3401,TRAIN_ACCURACY:96.89025115966797% lenght=37\n",
            "Epoch:109,Loss:0.3295,VAL_ACCURACY:97.80378723144531% \n",
            "Epoch:114,Loss:0.3673,TRAIN_ACCURACY:97.0640869140625% lenght=37\n",
            "Epoch:114,Loss:0.3620,VAL_ACCURACY:97.80293273925781% \n",
            "Epoch:119,Loss:0.3133,TRAIN_ACCURACY:97.0755615234375% lenght=37\n",
            "Epoch:119,Loss:0.3294,VAL_ACCURACY:97.48632049560547% \n",
            "Epoch:124,Loss:0.3228,TRAIN_ACCURACY:97.12220001220703% lenght=37\n",
            "Epoch:124,Loss:0.3294,VAL_ACCURACY:97.72443389892578% \n",
            "Epoch:129,Loss:0.3133,TRAIN_ACCURACY:96.9869384765625% lenght=37\n",
            "Epoch:129,Loss:0.3547,VAL_ACCURACY:97.37963104248047% \n",
            "Epoch:134,Loss:0.3133,TRAIN_ACCURACY:97.00559997558594% lenght=37\n",
            "Epoch:134,Loss:0.3348,VAL_ACCURACY:97.51277160644531% \n",
            "Epoch:139,Loss:0.3133,TRAIN_ACCURACY:96.97761535644531% lenght=37\n",
            "Epoch:139,Loss:0.3616,VAL_ACCURACY:97.43254852294922% \n",
            "Epoch:144,Loss:0.3943,TRAIN_ACCURACY:97.1726303100586% lenght=37\n",
            "Epoch:144,Loss:0.3453,VAL_ACCURACY:97.538818359375% \n",
            "Epoch:149,Loss:0.3673,TRAIN_ACCURACY:97.14804077148438% lenght=37\n",
            "Epoch:149,Loss:0.3294,VAL_ACCURACY:97.30113220214844% \n",
            "Epoch:154,Loss:0.3133,TRAIN_ACCURACY:97.2061538696289% lenght=37\n",
            "Epoch:154,Loss:0.3323,VAL_ACCURACY:97.90959930419922% \n",
            "Epoch:159,Loss:0.3403,TRAIN_ACCURACY:97.16077423095703% lenght=37\n",
            "Epoch:159,Loss:0.3294,VAL_ACCURACY:97.77732849121094% \n",
            "Epoch:164,Loss:0.3671,TRAIN_ACCURACY:96.8588638305664% lenght=37\n",
            "Epoch:164,Loss:0.3939,VAL_ACCURACY:97.48461151123047% \n",
            "Epoch:169,Loss:0.3403,TRAIN_ACCURACY:96.98353576660156% lenght=37\n",
            "Epoch:169,Loss:0.3133,VAL_ACCURACY:97.83065795898438% \n",
            "Epoch:174,Loss:0.4252,TRAIN_ACCURACY:97.07127380371094% lenght=37\n",
            "Epoch:174,Loss:0.3567,VAL_ACCURACY:97.72354125976562% \n",
            "Epoch:179,Loss:0.3658,TRAIN_ACCURACY:97.12471771240234% lenght=37\n",
            "Epoch:179,Loss:0.3134,VAL_ACCURACY:97.83067321777344% \n",
            "Epoch:184,Loss:0.3404,TRAIN_ACCURACY:97.1187973022461% lenght=37\n",
            "Epoch:184,Loss:0.3616,VAL_ACCURACY:97.69710540771484% \n",
            "Epoch:189,Loss:0.3713,TRAIN_ACCURACY:96.83554077148438% lenght=37\n",
            "Epoch:189,Loss:0.3458,VAL_ACCURACY:97.77693176269531% \n",
            "Epoch:194,Loss:0.3209,TRAIN_ACCURACY:97.17816925048828% lenght=37\n",
            "Epoch:194,Loss:0.3133,VAL_ACCURACY:97.85712432861328% \n",
            "Epoch:199,Loss:0.3200,TRAIN_ACCURACY:97.19683074951172% lenght=37\n",
            "Epoch:199,Loss:0.3294,VAL_ACCURACY:97.67150115966797% \n",
            "Epoch:204,Loss:0.3681,TRAIN_ACCURACY:97.20867156982422% lenght=37\n",
            "Epoch:204,Loss:0.3294,VAL_ACCURACY:97.85669708251953% \n",
            "Epoch:209,Loss:0.3403,TRAIN_ACCURACY:97.24939727783203% lenght=37\n",
            "Epoch:209,Loss:0.3837,VAL_ACCURACY:97.80249786376953% \n",
            "Epoch:214,Loss:0.3239,TRAIN_ACCURACY:97.26338958740234% lenght=37\n",
            "Epoch:214,Loss:0.3455,VAL_ACCURACY:97.69751739501953% \n",
            "Epoch:219,Loss:0.3673,TRAIN_ACCURACY:97.16203308105469% lenght=37\n",
            "Epoch:219,Loss:0.3133,VAL_ACCURACY:97.93647003173828% \n",
            "Epoch:224,Loss:0.3133,TRAIN_ACCURACY:97.12686920166016% lenght=37\n",
            "Epoch:224,Loss:0.3453,VAL_ACCURACY:97.8827133178711% \n",
            "Epoch:229,Loss:0.3403,TRAIN_ACCURACY:97.17010498046875% lenght=37\n",
            "Epoch:229,Loss:0.3201,VAL_ACCURACY:97.90959930419922% \n",
            "Epoch:234,Loss:0.3491,TRAIN_ACCURACY:97.20275115966797% lenght=37\n",
            "Epoch:234,Loss:0.3294,VAL_ACCURACY:97.61858367919922% \n",
            "Epoch:239,Loss:0.3673,TRAIN_ACCURACY:97.25997924804688% lenght=37\n",
            "Epoch:239,Loss:0.3374,VAL_ACCURACY:97.80335235595703% \n",
            "Epoch:244,Loss:0.3133,TRAIN_ACCURACY:97.21082305908203% lenght=37\n",
            "Epoch:244,Loss:0.3318,VAL_ACCURACY:97.93606567382812% \n",
            "Epoch:249,Loss:0.3404,TRAIN_ACCURACY:97.3333511352539% lenght=37\n",
            "Epoch:249,Loss:0.3616,VAL_ACCURACY:97.88229370117188% \n",
            "Epoch:254,Loss:0.3133,TRAIN_ACCURACY:97.36007690429688% lenght=37\n",
            "Epoch:254,Loss:0.3133,VAL_ACCURACY:98.0158462524414% \n",
            "Epoch:259,Loss:0.3403,TRAIN_ACCURACY:97.32868194580078% lenght=37\n",
            "Epoch:259,Loss:0.3455,VAL_ACCURACY:97.77690124511719% \n",
            "Epoch:264,Loss:0.3133,TRAIN_ACCURACY:97.23880767822266% lenght=37\n",
            "Epoch:264,Loss:0.3855,VAL_ACCURACY:97.90789031982422% \n",
            "Epoch:269,Loss:0.3403,TRAIN_ACCURACY:97.26805114746094% lenght=37\n",
            "Epoch:269,Loss:0.3613,VAL_ACCURACY:97.51192474365234% \n",
            "Epoch:274,Loss:0.3403,TRAIN_ACCURACY:97.29603576660156% lenght=37\n",
            "Epoch:274,Loss:0.3294,VAL_ACCURACY:97.93605041503906% \n",
            "Epoch:279,Loss:0.3673,TRAIN_ACCURACY:97.01744079589844% lenght=37\n",
            "Epoch:279,Loss:0.3455,VAL_ACCURACY:97.75044250488281% \n",
            "Epoch:284,Loss:0.3882,TRAIN_ACCURACY:97.18195343017578% lenght=37\n",
            "Epoch:284,Loss:0.3151,VAL_ACCURACY:98.09520721435547% \n",
            "Epoch:289,Loss:0.3220,TRAIN_ACCURACY:97.2994384765625% lenght=37\n",
            "Epoch:289,Loss:0.3240,VAL_ACCURACY:98.0687484741211% \n",
            "Epoch:294,Loss:0.3615,TRAIN_ACCURACY:97.27864074707031% lenght=37\n",
            "Epoch:294,Loss:0.3441,VAL_ACCURACY:97.8298110961914% \n",
            "Epoch:299,Loss:0.3673,TRAIN_ACCURACY:97.25065612792969% lenght=37\n",
            "Epoch:299,Loss:0.3294,VAL_ACCURACY:97.90959930419922% \n"
          ]
        }
      ],
      "source": [
        "nepoch=300\n",
        "output=[]\n",
        "plottr=[]\n",
        "plotts=[]\n",
        "losstr=[]\n",
        "lossts=[]\n",
        "lss=0\n",
        "acc=0\n",
        "for epoch in range (nepoch):\n",
        "  acc=0\n",
        "  lss=0\n",
        "  i=0\n",
        "  for d,w in train_loader:\n",
        "    i+=1\n",
        "    d = d.to(device)\n",
        "    w = w.to(device)\n",
        "    l=model.geten(d)\n",
        "    o=mmodel(l)\n",
        "    loss=criterion(o,w)\n",
        "    lss+=loss\n",
        "    acc+=accuracy(o,w)\n",
        "    optimizer.zero_grad()\n",
        "    loss.backward()\n",
        "    optimizer.step()\n",
        "  lss=lss/i\n",
        "  acc=acc/i\n",
        "  plottr.append(acc)\n",
        "  losstr.append(lss)\n",
        "  if((epoch+1)%5==0):\n",
        "    print(f'Epoch:{epoch},Loss:{loss.item():.4f},TRAIN_ACCURACY:{acc}% lenght={len(w)}')\n",
        "  i=0\n",
        "  acc=0\n",
        "  lss=0\n",
        "  for d,w in test_loader:\n",
        "    i+=1\n",
        "    d = d.to(device)\n",
        "    w = w.to(device)\n",
        "   \n",
        "    l=model.geten(d)\n",
        "   \n",
        "    o=mmodel(l)\n",
        "    loss=criterion(o,w)\n",
        "    lss+=loss\n",
        "    acc+=accuracy(o,w)\n",
        "  lss=lss/i\n",
        "  acc=acc/i\n",
        "  lossts.append(lss)\n",
        "  plotts.append(acc)\n",
        "  if((epoch+1)%5==0):\n",
        "    print(f'Epoch:{epoch},Loss:{loss.item():.4f},VAL_ACCURACY:{acc}% ')"
      ]
    },
    {
      "cell_type": "code",
      "execution_count": null,
      "metadata": {
        "colab": {
          "base_uri": "https://localhost:8080/",
          "height": 265
        },
        "id": "FXzwu4AHLHc6",
        "outputId": "3e9e2179-5fcf-4800-f9b9-73cadeb0934d"
      },
      "outputs": [
        {
          "data": {
            "image/png": "[encoded data removed]",
            "text/plain": [
              "<Figure size 432x288 with 1 Axes>"
            ]
          },
          "metadata": {},
          "output_type": "display_data"
        }
      ],
      "source": [
        "plt.plot(plottr,label='Training accuracy')\n",
        "plt.plot(plotts,label='Testing accuracy')\n",
        "plt.legend(frameon=False)\n",
        "plt.show()"
      ]
    },
    {
      "cell_type": "code",
      "execution_count": null,
      "metadata": {
        "colab": {
          "base_uri": "https://localhost:8080/",
          "height": 265
        },
        "id": "j5J4cn0Nbq1n",
        "outputId": "3320dc10-a4fa-406f-f25c-759598e4b1da"
      },
      "outputs": [
        {
          "data": {
            "image/png": "[encoded data removed]",
            "text/plain": [
              "<Figure size 432x288 with 1 Axes>"
            ]
          },
          "metadata": {},
          "output_type": "display_data"
        }
      ],
      "source": [
        "plt.plot(losstr,label='Training loss')\n",
        "plt.plot(lossts,label='Testing loss')\n",
        "plt.legend(frameon=False)\n",
        "plt.show()"
      ]
    },
    {
      "cell_type": "code",
      "execution_count": null,
      "metadata": {
        "colab": {
          "base_uri": "https://localhost:8080/"
        },
        "id": "Igxi8lSB-cxm",
        "outputId": "2c4785c4-b3a4-43b4-9859-612f4aba44b2"
      },
      "outputs": [
        {
          "output_type": "stream",
          "name": "stdout",
          "text": [
            "torch.return_types.max(\n",
            "values=tensor([0.7000, 0.9000, 0.7000, 0.8000, 0.8000]),\n",
            "indices=tensor([0, 0, 1, 0, 1]))\n",
            "torch.return_types.max(\n",
            "values=tensor([1, 1, 1, 1, 1]),\n",
            "indices=tensor([0, 1, 1, 0, 1]))\n",
            "tensor(0.8000)\n"
          ]
        }
      ],
      "source": [
        "a=torch.tensor([[1,0],[0,1],[0,1],[1,0],[0,1]])\n",
        "b=torch.tensor([[0.7,0.3],[0.9,0.4],[0.1,0.7],[0.8,0.5],[0.6,0.8]])\n",
        "preds = torch.max(b,dim=1)\n",
        "p=torch.max(a,dim=1)\n",
        "print(preds)\n",
        "print(p)\n",
        "E=torch.tensor(torch.sum(preds[1] == p[1]).item() / len(preds[1]))\n",
        "print(E)"
      ]
    },
    {
      "cell_type": "markdown",
      "metadata": {
        "id": "ikETFo9nFtKT"
      },
      "source": [
        "SAVE MAIN MODEL"
      ]
    },
    {
      "cell_type": "code",
      "execution_count": null,
      "metadata": {
        "id": "HQSyaTjQ-v6h"
      },
      "outputs": [],
      "source": [
        "torch.save(mmodel,'/content/drive/MyDrive/NETWORK_INSTRUSION/ofcmodel')"
      ]
    },
    {
      "cell_type": "markdown",
      "source": [
        "cpu"
      ],
      "metadata": {
        "id": "Et6ErfGl3dId"
      }
    },
    {
      "cell_type": "code",
      "execution_count": null,
      "metadata": {
        "id": "o95bLiXCGXjP"
      },
      "outputs": [],
      "source": [
        "mmodel=torch.load('/content/drive/MyDrive/NETWORK_INSTRUSION/ofcmodel')"
      ]
    },
    {
      "cell_type": "markdown",
      "metadata": {
        "id": "nQ01TLi1q2q3"
      },
      "source": [
        "PREDICTION FUNCTION"
      ]
    },
    {
      "cell_type": "code",
      "execution_count": null,
      "metadata": {
        "colab": {
          "base_uri": "https://localhost:8080/"
        },
        "id": "dG91wwGBq6R8",
        "outputId": "56ab35a7-e855-4b18-bf88-a018c4bbfbe8"
      },
      "outputs": [
        {
          "output_type": "stream",
          "name": "stdout",
          "text": [
            "NORMAL\n",
            "tensor([0., 1.], grad_fn=<SoftmaxBackward0>)\n"
          ]
        },
        {
          "output_type": "stream",
          "name": "stderr",
          "text": [
            "/usr/local/lib/python3.7/dist-packages/torch/nn/modules/container.py:141: UserWarning: Implicit dimension choice for softmax has been deprecated. Change the call to include dim=X as an argument.\n",
            "  input = module(input)\n"
          ]
        }
      ],
      "source": [
        "tr=torch.Tensor([1,1,2,0,0,0,0,0,100000,0,100000,0,0,0,0,0,10000,0,0,0,11111111111111,10000000000000,1000000000000,1,0,0,10000,0,100000,0,0,10000000000000,0,0,0,0,0,0,0,0])\n",
        "tr=tr.to(device)\n",
        "p=model.geten(tr)\n",
        "pt=mmodel(p)\n",
        "if(pt[0]==1):\n",
        "  print(\"ANAMOLY\")\n",
        "else:\n",
        "  print(\"NORMAL\")\n",
        "print(pt)"
      ]
    },
    {
      "cell_type": "code",
      "execution_count": null,
      "metadata": {
        "colab": {
          "base_uri": "https://localhost:8080/"
        },
        "id": "G8fi6y6GmU-p",
        "outputId": "6ac84a75-166f-4a8c-f1b9-8bc47cb6a26f"
      },
      "outputs": [
        {
          "data": {
            "text/plain": [
              "mainm(\n",
              "  (sath): Sequential(\n",
              "    (0): Linear(in_features=10, out_features=25, bias=True)\n",
              "    (1): ReLU()\n",
              "    (2): Linear(in_features=25, out_features=40, bias=True)\n",
              "    (3): ReLU()\n",
              "    (4): Linear(in_features=40, out_features=30, bias=True)\n",
              "    (5): ReLU()\n",
              "    (6): Linear(in_features=30, out_features=30, bias=True)\n",
              "    (7): ReLU()\n",
              "    (8): Linear(in_features=30, out_features=30, bias=True)\n",
              "    (9): ReLU()\n",
              "    (10): Linear(in_features=30, out_features=30, bias=True)\n",
              "    (11): ReLU()\n",
              "    (12): Linear(in_features=30, out_features=10, bias=True)\n",
              "    (13): ReLU()\n",
              "    (14): Linear(in_features=10, out_features=5, bias=True)\n",
              "    (15): ReLU()\n",
              "    (16): Linear(in_features=5, out_features=2, bias=True)\n",
              "    (17): Softmax(dim=None)\n",
              "  )\n",
              ")"
            ]
          },
          "execution_count": 62,
          "metadata": {},
          "output_type": "execute_result"
        }
      ],
      "source": [
        "mmodel.eval()"
      ]
    }
  ],
  "metadata": {
    "accelerator": "GPU",
    "colab": {
      "collapsed_sections": [],
      "name": "NETWORK_INTRUSION.ipynb",
      "provenance": [],
      "include_colab_link": true
    },
    "kernelspec": {
      "display_name": "Python 3",
      "name": "python3"
    },
    "language_info": {
      "name": "python"
    }
  },
  "nbformat": 4,
  "nbformat_minor": 0
}